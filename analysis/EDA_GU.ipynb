{
 "cells": [
  {
   "cell_type": "code",
   "execution_count": 174,
   "metadata": {},
   "outputs": [],
   "source": [
    "#Common libraries for work with data\n",
    "import os.path\n",
    "import pandas as pd\n",
    "import numpy as np\n",
    "\n",
    "#Modelos\n",
    "from sklearn import preprocessing\n",
    "from sklearn.datasets import make_classification\n",
    "from sklearn.tree import DecisionTreeClassifier\n",
    "from matplotlib import pyplot\n",
    "\n",
    "#Plot libraries\n",
    "import matplotlib.pyplot as plt\n",
    "import seaborn as sns"
   ]
  },
  {
   "cell_type": "code",
   "execution_count": 260,
   "metadata": {},
   "outputs": [],
   "source": [
    "#Funcion para contabilizar nulos\n",
    "def nulos(df):\n",
    "    nulos = pd.DataFrame(columns=['column', 'nul_perc'])\n",
    "    for column in df.columns:\n",
    "        null_rows = df[column].isnull()\n",
    "        if null_rows.any() == True:\n",
    "            nulos= nulos.append({'column': column, 'nul_perc': format(null_rows.sum()/row,\"0.2%\")}, ignore_index=True)\n",
    "    return nulos\n",
    "\n",
    "#Funcion para sustituir nulos con media\n",
    "def null_mean(df):\n",
    "    for column in df.columns:\n",
    "        null_rows = df[column].isnull()\n",
    "        if null_rows.any() == True:\n",
    "            df[column] = df[column].fillna(np.mean(df[column])).astype(int) "
   ]
  },
  {
   "cell_type": "code",
   "execution_count": 3,
   "metadata": {},
   "outputs": [
    {
     "data": {
      "text/html": [
       "<div>\n",
       "<style scoped>\n",
       "    .dataframe tbody tr th:only-of-type {\n",
       "        vertical-align: middle;\n",
       "    }\n",
       "\n",
       "    .dataframe tbody tr th {\n",
       "        vertical-align: top;\n",
       "    }\n",
       "\n",
       "    .dataframe thead th {\n",
       "        text-align: right;\n",
       "    }\n",
       "</style>\n",
       "<table border=\"1\" class=\"dataframe\">\n",
       "  <thead>\n",
       "    <tr style=\"text-align: right;\">\n",
       "      <th></th>\n",
       "      <th>BuyCard_sum_dsi0</th>\n",
       "      <th>BuyCard_sum_dsi1</th>\n",
       "      <th>BuyCard_sum_dsi2</th>\n",
       "      <th>BuyCard_sum_dsi3</th>\n",
       "      <th>ChangeArena_sum_dsi0</th>\n",
       "      <th>ChangeArena_sum_dsi1</th>\n",
       "      <th>ChangeArena_sum_dsi2</th>\n",
       "      <th>ChangeArena_sum_dsi3</th>\n",
       "      <th>EnterDeck_sum_dsi0</th>\n",
       "      <th>EnterDeck_sum_dsi1</th>\n",
       "      <th>...</th>\n",
       "      <th>hard_negative</th>\n",
       "      <th>hard_positive</th>\n",
       "      <th>id</th>\n",
       "      <th>install_date</th>\n",
       "      <th>platform</th>\n",
       "      <th>site</th>\n",
       "      <th>soft_negative</th>\n",
       "      <th>soft_positive</th>\n",
       "      <th>traffic_type</th>\n",
       "      <th>user_id</th>\n",
       "    </tr>\n",
       "  </thead>\n",
       "  <tbody>\n",
       "    <tr>\n",
       "      <th>0</th>\n",
       "      <td>2</td>\n",
       "      <td>0</td>\n",
       "      <td>0</td>\n",
       "      <td>0</td>\n",
       "      <td>1</td>\n",
       "      <td>0</td>\n",
       "      <td>1</td>\n",
       "      <td>0.0</td>\n",
       "      <td>9</td>\n",
       "      <td>6</td>\n",
       "      <td>...</td>\n",
       "      <td>26.0</td>\n",
       "      <td>22.0</td>\n",
       "      <td>3435577</td>\n",
       "      <td>222</td>\n",
       "      <td>Android</td>\n",
       "      <td>NaN</td>\n",
       "      <td>950.0</td>\n",
       "      <td>1452.0</td>\n",
       "      <td>2</td>\n",
       "      <td>66b3f80690ff</td>\n",
       "    </tr>\n",
       "    <tr>\n",
       "      <th>1</th>\n",
       "      <td>0</td>\n",
       "      <td>0</td>\n",
       "      <td>0</td>\n",
       "      <td>0</td>\n",
       "      <td>1</td>\n",
       "      <td>0</td>\n",
       "      <td>0</td>\n",
       "      <td>1.0</td>\n",
       "      <td>6</td>\n",
       "      <td>0</td>\n",
       "      <td>...</td>\n",
       "      <td>95.0</td>\n",
       "      <td>13.0</td>\n",
       "      <td>4074769</td>\n",
       "      <td>270</td>\n",
       "      <td>Android</td>\n",
       "      <td>NaN</td>\n",
       "      <td>480.0</td>\n",
       "      <td>967.0</td>\n",
       "      <td>2</td>\n",
       "      <td>330de16e21d0</td>\n",
       "    </tr>\n",
       "    <tr>\n",
       "      <th>2</th>\n",
       "      <td>0</td>\n",
       "      <td>0</td>\n",
       "      <td>0</td>\n",
       "      <td>7</td>\n",
       "      <td>1</td>\n",
       "      <td>1</td>\n",
       "      <td>0</td>\n",
       "      <td>NaN</td>\n",
       "      <td>13</td>\n",
       "      <td>2</td>\n",
       "      <td>...</td>\n",
       "      <td>111.0</td>\n",
       "      <td>19.0</td>\n",
       "      <td>1190847</td>\n",
       "      <td>76</td>\n",
       "      <td>Android</td>\n",
       "      <td>bd22d588</td>\n",
       "      <td>1182.0</td>\n",
       "      <td>1509.0</td>\n",
       "      <td>2</td>\n",
       "      <td>1d9c13e767a2</td>\n",
       "    </tr>\n",
       "    <tr>\n",
       "      <th>3</th>\n",
       "      <td>0</td>\n",
       "      <td>0</td>\n",
       "      <td>0</td>\n",
       "      <td>0</td>\n",
       "      <td>1</td>\n",
       "      <td>0</td>\n",
       "      <td>0</td>\n",
       "      <td>NaN</td>\n",
       "      <td>11</td>\n",
       "      <td>7</td>\n",
       "      <td>...</td>\n",
       "      <td>107.0</td>\n",
       "      <td>8.0</td>\n",
       "      <td>5114813</td>\n",
       "      <td>362</td>\n",
       "      <td>Android</td>\n",
       "      <td>NaN</td>\n",
       "      <td>660.0</td>\n",
       "      <td>810.0</td>\n",
       "      <td>2</td>\n",
       "      <td>9d35b8f50698</td>\n",
       "    </tr>\n",
       "    <tr>\n",
       "      <th>4</th>\n",
       "      <td>7</td>\n",
       "      <td>0</td>\n",
       "      <td>11</td>\n",
       "      <td>0</td>\n",
       "      <td>2</td>\n",
       "      <td>1</td>\n",
       "      <td>0</td>\n",
       "      <td>0.0</td>\n",
       "      <td>15</td>\n",
       "      <td>8</td>\n",
       "      <td>...</td>\n",
       "      <td>89.0</td>\n",
       "      <td>17.0</td>\n",
       "      <td>1526132</td>\n",
       "      <td>95</td>\n",
       "      <td>Android</td>\n",
       "      <td>NaN</td>\n",
       "      <td>2498.0</td>\n",
       "      <td>2813.0</td>\n",
       "      <td>2</td>\n",
       "      <td>f2e16d56a19e</td>\n",
       "    </tr>\n",
       "  </tbody>\n",
       "</table>\n",
       "<p>5 rows × 102 columns</p>\n",
       "</div>"
      ],
      "text/plain": [
       "   BuyCard_sum_dsi0  BuyCard_sum_dsi1  BuyCard_sum_dsi2  BuyCard_sum_dsi3  \\\n",
       "0                 2                 0                 0                 0   \n",
       "1                 0                 0                 0                 0   \n",
       "2                 0                 0                 0                 7   \n",
       "3                 0                 0                 0                 0   \n",
       "4                 7                 0                11                 0   \n",
       "\n",
       "   ChangeArena_sum_dsi0  ChangeArena_sum_dsi1  ChangeArena_sum_dsi2  \\\n",
       "0                     1                     0                     1   \n",
       "1                     1                     0                     0   \n",
       "2                     1                     1                     0   \n",
       "3                     1                     0                     0   \n",
       "4                     2                     1                     0   \n",
       "\n",
       "   ChangeArena_sum_dsi3  EnterDeck_sum_dsi0  EnterDeck_sum_dsi1  ...  \\\n",
       "0                   0.0                   9                   6  ...   \n",
       "1                   1.0                   6                   0  ...   \n",
       "2                   NaN                  13                   2  ...   \n",
       "3                   NaN                  11                   7  ...   \n",
       "4                   0.0                  15                   8  ...   \n",
       "\n",
       "   hard_negative  hard_positive       id  install_date  platform      site  \\\n",
       "0           26.0           22.0  3435577           222   Android       NaN   \n",
       "1           95.0           13.0  4074769           270   Android       NaN   \n",
       "2          111.0           19.0  1190847            76   Android  bd22d588   \n",
       "3          107.0            8.0  5114813           362   Android       NaN   \n",
       "4           89.0           17.0  1526132            95   Android       NaN   \n",
       "\n",
       "   soft_negative  soft_positive  traffic_type       user_id  \n",
       "0          950.0         1452.0             2  66b3f80690ff  \n",
       "1          480.0          967.0             2  330de16e21d0  \n",
       "2         1182.0         1509.0             2  1d9c13e767a2  \n",
       "3          660.0          810.0             2  9d35b8f50698  \n",
       "4         2498.0         2813.0             2  f2e16d56a19e  \n",
       "\n",
       "[5 rows x 102 columns]"
      ]
     },
     "execution_count": 3,
     "metadata": {},
     "output_type": "execute_result"
    }
   ],
   "source": [
    "df = pd.read_csv('../datos/train_sample.csv')\n",
    "df.head()"
   ]
  },
  {
   "cell_type": "code",
   "execution_count": 261,
   "metadata": {},
   "outputs": [
    {
     "name": "stdout",
     "output_type": "stream",
     "text": [
      "548945\n",
      "102\n"
     ]
    }
   ],
   "source": [
    "row, col = df.shape\n",
    "print(row)\n",
    "print(col)"
   ]
  },
  {
   "cell_type": "code",
   "execution_count": 262,
   "metadata": {},
   "outputs": [
    {
     "data": {
      "text/plain": [
       "(548945, 82)"
      ]
     },
     "execution_count": 262,
     "metadata": {},
     "output_type": "execute_result"
    }
   ],
   "source": [
    "df_numerical = df.select_dtypes(include = ['float64', 'int64'])\n",
    "df_numerical.shape"
   ]
  },
  {
   "cell_type": "code",
   "execution_count": 263,
   "metadata": {},
   "outputs": [
    {
     "data": {
      "text/html": [
       "<div>\n",
       "<style scoped>\n",
       "    .dataframe tbody tr th:only-of-type {\n",
       "        vertical-align: middle;\n",
       "    }\n",
       "\n",
       "    .dataframe tbody tr th {\n",
       "        vertical-align: top;\n",
       "    }\n",
       "\n",
       "    .dataframe thead th {\n",
       "        text-align: right;\n",
       "    }\n",
       "</style>\n",
       "<table border=\"1\" class=\"dataframe\">\n",
       "  <thead>\n",
       "    <tr style=\"text-align: right;\">\n",
       "      <th></th>\n",
       "      <th>categorical_1</th>\n",
       "      <th>categorical_2</th>\n",
       "      <th>categorical_3</th>\n",
       "      <th>categorical_4</th>\n",
       "      <th>categorical_5</th>\n",
       "      <th>categorical_6</th>\n",
       "      <th>categorical_7</th>\n",
       "      <th>country</th>\n",
       "      <th>device_model</th>\n",
       "      <th>platform</th>\n",
       "      <th>site</th>\n",
       "      <th>user_id</th>\n",
       "    </tr>\n",
       "  </thead>\n",
       "  <tbody>\n",
       "    <tr>\n",
       "      <th>0</th>\n",
       "      <td>FB2Cd102</td>\n",
       "      <td>408BCCd9</td>\n",
       "      <td>A2bEfD7e</td>\n",
       "      <td>94dAb3fC</td>\n",
       "      <td>dd21E110</td>\n",
       "      <td>6cCb423b</td>\n",
       "      <td>42279d35</td>\n",
       "      <td>WW</td>\n",
       "      <td>iQA27X_E</td>\n",
       "      <td>Android</td>\n",
       "      <td>NaN</td>\n",
       "      <td>66b3f80690ff</td>\n",
       "    </tr>\n",
       "    <tr>\n",
       "      <th>1</th>\n",
       "      <td>FB2Cd102</td>\n",
       "      <td>408BCCd9</td>\n",
       "      <td>A2bEfD7e</td>\n",
       "      <td>94dAb3fC</td>\n",
       "      <td>dd21E110</td>\n",
       "      <td>6cCb423b</td>\n",
       "      <td>96C52fB6</td>\n",
       "      <td>WW</td>\n",
       "      <td>motorola one vision</td>\n",
       "      <td>Android</td>\n",
       "      <td>NaN</td>\n",
       "      <td>330de16e21d0</td>\n",
       "    </tr>\n",
       "    <tr>\n",
       "      <th>2</th>\n",
       "      <td>273c8eEb</td>\n",
       "      <td>8CDd2dbD</td>\n",
       "      <td>B1F91Bb0</td>\n",
       "      <td>2Cbdae4B</td>\n",
       "      <td>bABe1cae</td>\n",
       "      <td>ABDf1BCE</td>\n",
       "      <td>NaN</td>\n",
       "      <td>WW</td>\n",
       "      <td>SM-G950F</td>\n",
       "      <td>Android</td>\n",
       "      <td>bd22d588</td>\n",
       "      <td>1d9c13e767a2</td>\n",
       "    </tr>\n",
       "    <tr>\n",
       "      <th>3</th>\n",
       "      <td>67AD0B6E</td>\n",
       "      <td>d7172d3e</td>\n",
       "      <td>aB5FcAd5</td>\n",
       "      <td>94dAb3fC</td>\n",
       "      <td>3D8Eafc7</td>\n",
       "      <td>58fdA94B</td>\n",
       "      <td>Cfc0BEa1</td>\n",
       "      <td>AR</td>\n",
       "      <td>Moto E (4) Plus</td>\n",
       "      <td>Android</td>\n",
       "      <td>NaN</td>\n",
       "      <td>9d35b8f50698</td>\n",
       "    </tr>\n",
       "    <tr>\n",
       "      <th>4</th>\n",
       "      <td>FB2Cd102</td>\n",
       "      <td>408BCCd9</td>\n",
       "      <td>A2bEfD7e</td>\n",
       "      <td>94dAb3fC</td>\n",
       "      <td>dd21E110</td>\n",
       "      <td>6cCb423b</td>\n",
       "      <td>42279d35</td>\n",
       "      <td>WW</td>\n",
       "      <td>DUA-L22</td>\n",
       "      <td>Android</td>\n",
       "      <td>NaN</td>\n",
       "      <td>f2e16d56a19e</td>\n",
       "    </tr>\n",
       "  </tbody>\n",
       "</table>\n",
       "</div>"
      ],
      "text/plain": [
       "  categorical_1 categorical_2 categorical_3 categorical_4 categorical_5  \\\n",
       "0      FB2Cd102      408BCCd9      A2bEfD7e      94dAb3fC      dd21E110   \n",
       "1      FB2Cd102      408BCCd9      A2bEfD7e      94dAb3fC      dd21E110   \n",
       "2      273c8eEb      8CDd2dbD      B1F91Bb0      2Cbdae4B      bABe1cae   \n",
       "3      67AD0B6E      d7172d3e      aB5FcAd5      94dAb3fC      3D8Eafc7   \n",
       "4      FB2Cd102      408BCCd9      A2bEfD7e      94dAb3fC      dd21E110   \n",
       "\n",
       "  categorical_6 categorical_7 country         device_model platform      site  \\\n",
       "0      6cCb423b      42279d35      WW             iQA27X_E  Android       NaN   \n",
       "1      6cCb423b      96C52fB6      WW  motorola one vision  Android       NaN   \n",
       "2      ABDf1BCE           NaN      WW             SM-G950F  Android  bd22d588   \n",
       "3      58fdA94B      Cfc0BEa1      AR      Moto E (4) Plus  Android       NaN   \n",
       "4      6cCb423b      42279d35      WW              DUA-L22  Android       NaN   \n",
       "\n",
       "        user_id  \n",
       "0  66b3f80690ff  \n",
       "1  330de16e21d0  \n",
       "2  1d9c13e767a2  \n",
       "3  9d35b8f50698  \n",
       "4  f2e16d56a19e  "
      ]
     },
     "execution_count": 263,
     "metadata": {},
     "output_type": "execute_result"
    }
   ],
   "source": [
    "df_object = df.select_dtypes(include = ['O'])\n",
    "df_object.head()"
   ]
  },
  {
   "cell_type": "code",
   "execution_count": 271,
   "metadata": {},
   "outputs": [
    {
     "data": {
      "text/plain": [
       "0.0    0.812322\n",
       "1.0    0.187678\n",
       "Name: Label, dtype: float64"
      ]
     },
     "execution_count": 271,
     "metadata": {},
     "output_type": "execute_result"
    }
   ],
   "source": [
    "df['Label'].value_counts()/row"
   ]
  },
  {
   "cell_type": "markdown",
   "metadata": {},
   "source": [
    "# **Primer modelo y Feature Importance**"
   ]
  },
  {
   "cell_type": "code",
   "execution_count": 264,
   "metadata": {},
   "outputs": [
    {
     "name": "stderr",
     "output_type": "stream",
     "text": [
      "/anaconda3/envs/Prueba/lib/python3.7/site-packages/ipykernel_launcher.py:15: SettingWithCopyWarning: \n",
      "A value is trying to be set on a copy of a slice from a DataFrame.\n",
      "Try using .loc[row_indexer,col_indexer] = value instead\n",
      "\n",
      "See the caveats in the documentation: http://pandas.pydata.org/pandas-docs/stable/user_guide/indexing.html#returning-a-view-versus-a-copy\n",
      "  from ipykernel import kernelapp as app\n"
     ]
    },
    {
     "data": {
      "text/html": [
       "<div>\n",
       "<style scoped>\n",
       "    .dataframe tbody tr th:only-of-type {\n",
       "        vertical-align: middle;\n",
       "    }\n",
       "\n",
       "    .dataframe tbody tr th {\n",
       "        vertical-align: top;\n",
       "    }\n",
       "\n",
       "    .dataframe thead th {\n",
       "        text-align: right;\n",
       "    }\n",
       "</style>\n",
       "<table border=\"1\" class=\"dataframe\">\n",
       "  <thead>\n",
       "    <tr style=\"text-align: right;\">\n",
       "      <th></th>\n",
       "      <th>column</th>\n",
       "      <th>nul_perc</th>\n",
       "    </tr>\n",
       "  </thead>\n",
       "  <tbody>\n",
       "  </tbody>\n",
       "</table>\n",
       "</div>"
      ],
      "text/plain": [
       "Empty DataFrame\n",
       "Columns: [column, nul_perc]\n",
       "Index: []"
      ]
     },
     "execution_count": 264,
     "metadata": {},
     "output_type": "execute_result"
    }
   ],
   "source": [
    "#sustituir null\n",
    "null_mean(df_numerical)\n",
    "nulos(df_numerical)"
   ]
  },
  {
   "cell_type": "code",
   "execution_count": 265,
   "metadata": {},
   "outputs": [
    {
     "name": "stdout",
     "output_type": "stream",
     "text": [
      "df_shape (548945, 82)\n",
      "X_shape (548945, 80)\n",
      "Y_shape (548945, 1)\n",
      "X_train (384261, 80)\n",
      "Y_train (384261, 1)\n"
     ]
    }
   ],
   "source": [
    "from sklearn.model_selection import train_test_split\n",
    "y = df_numerical[['Label']]\n",
    "X = df_numerical.drop(['Label','Label_max_played_dsi'], axis=1).reset_index(drop=True)\n",
    "\n",
    "print(\"df_shape\",df_numerical.shape)\n",
    "print(\"X_shape\",X.shape)\n",
    "print(\"Y_shape\",y.shape)\n",
    "\n",
    "X_train, X_test, y_train, y_test = train_test_split(X, y, test_size=0.30, random_state=20)\n",
    "X_train.head()\n",
    "\n",
    "print(\"X_train\",X_train.shape)\n",
    "print(\"Y_train\",y_train.shape)"
   ]
  },
  {
   "cell_type": "code",
   "execution_count": 266,
   "metadata": {},
   "outputs": [
    {
     "data": {
      "image/png": "[encoded data removed]",
      "text/plain": [
       "<Figure size 432x288 with 1 Axes>"
      ]
     },
     "metadata": {
      "needs_background": "light"
     },
     "output_type": "display_data"
    }
   ],
   "source": [
    "treeclf = DecisionTreeClassifier(class_weight=None, criterion='gini', max_depth=6,\n",
    "            max_features=None, max_leaf_nodes=None,\n",
    "            min_impurity_decrease=0.0,\n",
    "            min_samples_leaf=0.05, min_samples_split=2,\n",
    "            min_weight_fraction_leaf=0.0, random_state=1,\n",
    "            splitter='best')\n",
    "treeclf.fit(X_train, y_train)\n",
    "probs = treeclf.predict_proba(X_test)\n",
    "from sklearn import metrics\n",
    "fpr, tpr, threshold = metrics.roc_curve(y_test,probs[:,1])\n",
    "roc_auc = metrics.auc(fpr, tpr)\n",
    "\n",
    "plt.title('Model Performance')\n",
    "plt.plot(fpr, tpr, 'b', label = 'AUC = %0.2f' % roc_auc)\n",
    "plt.legend(loc = 'lower right')\n",
    "plt.plot([0, 1], [0, 1],'r--')\n",
    "plt.xlim([0, 1])\n",
    "plt.ylim([0, 1])\n",
    "plt.ylabel('True Positive Rate')\n",
    "plt.xlabel('False Positive Rate')\n",
    "plt.show()"
   ]
  },
  {
   "cell_type": "code",
   "execution_count": 267,
   "metadata": {},
   "outputs": [
    {
     "data": {
      "text/html": [
       "<div>\n",
       "<style scoped>\n",
       "    .dataframe tbody tr th:only-of-type {\n",
       "        vertical-align: middle;\n",
       "    }\n",
       "\n",
       "    .dataframe tbody tr th {\n",
       "        vertical-align: top;\n",
       "    }\n",
       "\n",
       "    .dataframe thead th {\n",
       "        text-align: right;\n",
       "    }\n",
       "</style>\n",
       "<table border=\"1\" class=\"dataframe\">\n",
       "  <thead>\n",
       "    <tr style=\"text-align: right;\">\n",
       "      <th></th>\n",
       "      <th>feature</th>\n",
       "      <th>importance</th>\n",
       "    </tr>\n",
       "  </thead>\n",
       "  <tbody>\n",
       "    <tr>\n",
       "      <th>0</th>\n",
       "      <td>PiggyBankModifiedPoints_sum_dsi3</td>\n",
       "      <td>0.892866</td>\n",
       "    </tr>\n",
       "    <tr>\n",
       "      <th>1</th>\n",
       "      <td>StartSession_sum_dsi3</td>\n",
       "      <td>0.034298</td>\n",
       "    </tr>\n",
       "    <tr>\n",
       "      <th>2</th>\n",
       "      <td>soft_positive</td>\n",
       "      <td>0.022819</td>\n",
       "    </tr>\n",
       "    <tr>\n",
       "      <th>3</th>\n",
       "      <td>PiggyBankModifiedPoints_sum_dsi2</td>\n",
       "      <td>0.022493</td>\n",
       "    </tr>\n",
       "    <tr>\n",
       "      <th>4</th>\n",
       "      <td>WinBattle_sum_dsi3</td>\n",
       "      <td>0.014903</td>\n",
       "    </tr>\n",
       "    <tr>\n",
       "      <th>5</th>\n",
       "      <td>StartSession_sum_dsi2</td>\n",
       "      <td>0.010143</td>\n",
       "    </tr>\n",
       "    <tr>\n",
       "      <th>6</th>\n",
       "      <td>OpenChest_sum_dsi3</td>\n",
       "      <td>0.002478</td>\n",
       "    </tr>\n",
       "  </tbody>\n",
       "</table>\n",
       "</div>"
      ],
      "text/plain": [
       "                            feature  importance\n",
       "0  PiggyBankModifiedPoints_sum_dsi3    0.892866\n",
       "1             StartSession_sum_dsi3    0.034298\n",
       "2                     soft_positive    0.022819\n",
       "3  PiggyBankModifiedPoints_sum_dsi2    0.022493\n",
       "4                WinBattle_sum_dsi3    0.014903\n",
       "5             StartSession_sum_dsi2    0.010143\n",
       "6                OpenChest_sum_dsi3    0.002478"
      ]
     },
     "execution_count": 267,
     "metadata": {},
     "output_type": "execute_result"
    }
   ],
   "source": [
    "imp_features = pd.DataFrame(columns=['feature', 'importance'])\n",
    "for importance, name in sorted(zip(treeclf.feature_importances_, X_train.columns),reverse=True):\n",
    "    imp_features = imp_features.append({'feature':name, 'importance':importance},ignore_index = True)\n",
    "    \n",
    "imp_features = imp_features[imp_features['importance'] > 0]\n",
    "imp_features.sort_values(by='importance',ascending = False)"
   ]
  },
  {
   "cell_type": "markdown",
   "metadata": {},
   "source": [
    "**Validacion**"
   ]
  },
  {
   "cell_type": "code",
   "execution_count": 248,
   "metadata": {},
   "outputs": [
    {
     "data": {
      "text/html": [
       "<div>\n",
       "<style scoped>\n",
       "    .dataframe tbody tr th:only-of-type {\n",
       "        vertical-align: middle;\n",
       "    }\n",
       "\n",
       "    .dataframe tbody tr th {\n",
       "        vertical-align: top;\n",
       "    }\n",
       "\n",
       "    .dataframe thead th {\n",
       "        text-align: right;\n",
       "    }\n",
       "</style>\n",
       "<table border=\"1\" class=\"dataframe\">\n",
       "  <thead>\n",
       "    <tr style=\"text-align: right;\">\n",
       "      <th></th>\n",
       "      <th>TutorialStart</th>\n",
       "      <th>LoseTournamentBattle_sum_dsi3</th>\n",
       "      <th>categorical_5</th>\n",
       "      <th>WinTournamentBattle_sum_dsi0</th>\n",
       "      <th>EnterDeck_sum_dsi2</th>\n",
       "      <th>BuyCard_sum_dsi3</th>\n",
       "      <th>JoinTournament_sum_dsi2</th>\n",
       "      <th>StartBattle_sum_dsi2</th>\n",
       "      <th>country</th>\n",
       "      <th>BuyCard_sum_dsi2</th>\n",
       "      <th>...</th>\n",
       "      <th>OpenPiggyBank_sum_dsi2</th>\n",
       "      <th>LoseTournamentBattle_sum_dsi1</th>\n",
       "      <th>StartSession_sum_dsi0</th>\n",
       "      <th>WinTournamentBattle_sum_dsi2</th>\n",
       "      <th>categorical_2</th>\n",
       "      <th>OpenChest_sum_dsi1</th>\n",
       "      <th>categorical_3</th>\n",
       "      <th>StartTournamentBattle_sum_dsi0</th>\n",
       "      <th>OpenPiggyBank_sum_dsi0</th>\n",
       "      <th>TutorialStartPart2</th>\n",
       "    </tr>\n",
       "  </thead>\n",
       "  <tbody>\n",
       "    <tr>\n",
       "      <th>0</th>\n",
       "      <td>True</td>\n",
       "      <td>0</td>\n",
       "      <td>3D8Eafc7</td>\n",
       "      <td>0</td>\n",
       "      <td>2</td>\n",
       "      <td>0</td>\n",
       "      <td>0</td>\n",
       "      <td>15</td>\n",
       "      <td>IN</td>\n",
       "      <td>0</td>\n",
       "      <td>...</td>\n",
       "      <td>0</td>\n",
       "      <td>0</td>\n",
       "      <td>2</td>\n",
       "      <td>0</td>\n",
       "      <td>d7172d3e</td>\n",
       "      <td>10</td>\n",
       "      <td>aB5FcAd5</td>\n",
       "      <td>0</td>\n",
       "      <td>0</td>\n",
       "      <td>True</td>\n",
       "    </tr>\n",
       "    <tr>\n",
       "      <th>1</th>\n",
       "      <td>True</td>\n",
       "      <td>0</td>\n",
       "      <td>3D8Eafc7</td>\n",
       "      <td>0</td>\n",
       "      <td>6</td>\n",
       "      <td>36</td>\n",
       "      <td>0</td>\n",
       "      <td>17</td>\n",
       "      <td>BR</td>\n",
       "      <td>0</td>\n",
       "      <td>...</td>\n",
       "      <td>0</td>\n",
       "      <td>0</td>\n",
       "      <td>6</td>\n",
       "      <td>0</td>\n",
       "      <td>d7172d3e</td>\n",
       "      <td>7</td>\n",
       "      <td>aB5FcAd5</td>\n",
       "      <td>0</td>\n",
       "      <td>1</td>\n",
       "      <td>True</td>\n",
       "    </tr>\n",
       "    <tr>\n",
       "      <th>2</th>\n",
       "      <td>True</td>\n",
       "      <td>0</td>\n",
       "      <td>3D8Eafc7</td>\n",
       "      <td>0</td>\n",
       "      <td>7</td>\n",
       "      <td>0</td>\n",
       "      <td>0</td>\n",
       "      <td>13</td>\n",
       "      <td>RS</td>\n",
       "      <td>0</td>\n",
       "      <td>...</td>\n",
       "      <td>0</td>\n",
       "      <td>0</td>\n",
       "      <td>1</td>\n",
       "      <td>0</td>\n",
       "      <td>d7172d3e</td>\n",
       "      <td>0</td>\n",
       "      <td>aB5FcAd5</td>\n",
       "      <td>0</td>\n",
       "      <td>0</td>\n",
       "      <td>True</td>\n",
       "    </tr>\n",
       "    <tr>\n",
       "      <th>3</th>\n",
       "      <td>True</td>\n",
       "      <td>0</td>\n",
       "      <td>3D8Eafc7</td>\n",
       "      <td>0</td>\n",
       "      <td>4</td>\n",
       "      <td>0</td>\n",
       "      <td>0</td>\n",
       "      <td>3</td>\n",
       "      <td>IN</td>\n",
       "      <td>0</td>\n",
       "      <td>...</td>\n",
       "      <td>0</td>\n",
       "      <td>0</td>\n",
       "      <td>5</td>\n",
       "      <td>0</td>\n",
       "      <td>d7172d3e</td>\n",
       "      <td>2</td>\n",
       "      <td>aB5FcAd5</td>\n",
       "      <td>0</td>\n",
       "      <td>0</td>\n",
       "      <td>False</td>\n",
       "    </tr>\n",
       "    <tr>\n",
       "      <th>4</th>\n",
       "      <td>True</td>\n",
       "      <td>0</td>\n",
       "      <td>3D8Eafc7</td>\n",
       "      <td>0</td>\n",
       "      <td>3</td>\n",
       "      <td>0</td>\n",
       "      <td>0</td>\n",
       "      <td>2</td>\n",
       "      <td>RU</td>\n",
       "      <td>0</td>\n",
       "      <td>...</td>\n",
       "      <td>0</td>\n",
       "      <td>0</td>\n",
       "      <td>1</td>\n",
       "      <td>0</td>\n",
       "      <td>d7172d3e</td>\n",
       "      <td>5</td>\n",
       "      <td>aB5FcAd5</td>\n",
       "      <td>0</td>\n",
       "      <td>0</td>\n",
       "      <td>True</td>\n",
       "    </tr>\n",
       "  </tbody>\n",
       "</table>\n",
       "<p>5 rows × 100 columns</p>\n",
       "</div>"
      ],
      "text/plain": [
       "   TutorialStart  LoseTournamentBattle_sum_dsi3 categorical_5  \\\n",
       "0           True                              0      3D8Eafc7   \n",
       "1           True                              0      3D8Eafc7   \n",
       "2           True                              0      3D8Eafc7   \n",
       "3           True                              0      3D8Eafc7   \n",
       "4           True                              0      3D8Eafc7   \n",
       "\n",
       "   WinTournamentBattle_sum_dsi0  EnterDeck_sum_dsi2  BuyCard_sum_dsi3  \\\n",
       "0                             0                   2                 0   \n",
       "1                             0                   6                36   \n",
       "2                             0                   7                 0   \n",
       "3                             0                   4                 0   \n",
       "4                             0                   3                 0   \n",
       "\n",
       "   JoinTournament_sum_dsi2  StartBattle_sum_dsi2 country  BuyCard_sum_dsi2  \\\n",
       "0                        0                    15      IN                 0   \n",
       "1                        0                    17      BR                 0   \n",
       "2                        0                    13      RS                 0   \n",
       "3                        0                     3      IN                 0   \n",
       "4                        0                     2      RU                 0   \n",
       "\n",
       "   ...  OpenPiggyBank_sum_dsi2  LoseTournamentBattle_sum_dsi1  \\\n",
       "0  ...                       0                              0   \n",
       "1  ...                       0                              0   \n",
       "2  ...                       0                              0   \n",
       "3  ...                       0                              0   \n",
       "4  ...                       0                              0   \n",
       "\n",
       "   StartSession_sum_dsi0  WinTournamentBattle_sum_dsi2  categorical_2  \\\n",
       "0                      2                             0       d7172d3e   \n",
       "1                      6                             0       d7172d3e   \n",
       "2                      1                             0       d7172d3e   \n",
       "3                      5                             0       d7172d3e   \n",
       "4                      1                             0       d7172d3e   \n",
       "\n",
       "   OpenChest_sum_dsi1  categorical_3  StartTournamentBattle_sum_dsi0  \\\n",
       "0                  10       aB5FcAd5                               0   \n",
       "1                   7       aB5FcAd5                               0   \n",
       "2                   0       aB5FcAd5                               0   \n",
       "3                   2       aB5FcAd5                               0   \n",
       "4                   5       aB5FcAd5                               0   \n",
       "\n",
       "   OpenPiggyBank_sum_dsi0  TutorialStartPart2  \n",
       "0                       0                True  \n",
       "1                       1                True  \n",
       "2                       0                True  \n",
       "3                       0               False  \n",
       "4                       0                True  \n",
       "\n",
       "[5 rows x 100 columns]"
      ]
     },
     "execution_count": 248,
     "metadata": {},
     "output_type": "execute_result"
    }
   ],
   "source": [
    "test = pd.read_csv('../datos/evaluation.csv')\n",
    "test.head() "
   ]
  },
  {
   "cell_type": "code",
   "execution_count": 249,
   "metadata": {},
   "outputs": [
    {
     "data": {
      "text/plain": [
       "(661313, 100)"
      ]
     },
     "execution_count": 249,
     "metadata": {},
     "output_type": "execute_result"
    }
   ],
   "source": [
    "test.shape"
   ]
  },
  {
   "cell_type": "code",
   "execution_count": 255,
   "metadata": {},
   "outputs": [],
   "source": [
    "test_num = test.select_dtypes(include = ['float64', 'int64'])"
   ]
  },
  {
   "cell_type": "code",
   "execution_count": 257,
   "metadata": {},
   "outputs": [
    {
     "data": {
      "text/html": [
       "<div>\n",
       "<style scoped>\n",
       "    .dataframe tbody tr th:only-of-type {\n",
       "        vertical-align: middle;\n",
       "    }\n",
       "\n",
       "    .dataframe tbody tr th {\n",
       "        vertical-align: top;\n",
       "    }\n",
       "\n",
       "    .dataframe thead th {\n",
       "        text-align: right;\n",
       "    }\n",
       "</style>\n",
       "<table border=\"1\" class=\"dataframe\">\n",
       "  <thead>\n",
       "    <tr style=\"text-align: right;\">\n",
       "      <th></th>\n",
       "      <th>column</th>\n",
       "      <th>nul_perc</th>\n",
       "    </tr>\n",
       "  </thead>\n",
       "  <tbody>\n",
       "  </tbody>\n",
       "</table>\n",
       "</div>"
      ],
      "text/plain": [
       "Empty DataFrame\n",
       "Columns: [column, nul_perc]\n",
       "Index: []"
      ]
     },
     "execution_count": 257,
     "metadata": {},
     "output_type": "execute_result"
    }
   ],
   "source": [
    "#sustituir nulos\n",
    "null_mean(test_num)\n",
    "nulos(test_num)"
   ]
  },
  {
   "cell_type": "code",
   "execution_count": 268,
   "metadata": {},
   "outputs": [
    {
     "data": {
      "text/plain": [
       "array([0.28512383, 0.28512383, 0.28512383, ..., 0.28512383, 0.28512383,\n",
       "       0.28512383])"
      ]
     },
     "execution_count": 268,
     "metadata": {},
     "output_type": "execute_result"
    }
   ],
   "source": [
    "probs = treeclf.predict_proba(test_num)\n",
    "probs[:,1]"
   ]
  },
  {
   "cell_type": "code",
   "execution_count": 283,
   "metadata": {},
   "outputs": [
    {
     "data": {
      "text/plain": [
       "<matplotlib.axes._subplots.AxesSubplot at 0x1ac5f3f240>"
      ]
     },
     "execution_count": 283,
     "metadata": {},
     "output_type": "execute_result"
    },
    {
     "data": {
      "image/png": "[encoded data removed]",
      "text/plain": [
       "<Figure size 432x288 with 1 Axes>"
      ]
     },
     "metadata": {
      "needs_background": "light"
     },
     "output_type": "display_data"
    }
   ],
   "source": [
    "sns.distplot(probs[:,1])"
   ]
  },
  {
   "cell_type": "code",
   "execution_count": 279,
   "metadata": {},
   "outputs": [
    {
     "data": {
      "text/plain": [
       "<matplotlib.axes._subplots.AxesSubplot at 0x1ac66f19b0>"
      ]
     },
     "execution_count": 279,
     "metadata": {},
     "output_type": "execute_result"
    },
    {
     "data": {
      "image/png": "[encoded data removed]",
      "text/plain": [
       "<Figure size 432x288 with 1 Axes>"
      ]
     },
     "metadata": {
      "needs_background": "light"
     },
     "output_type": "display_data"
    }
   ],
   "source": [
    "sns.distplot(test['PiggyBankModifiedPoints_sum_dsi3'])"
   ]
  },
  {
   "cell_type": "code",
   "execution_count": 280,
   "metadata": {},
   "outputs": [
    {
     "data": {
      "text/plain": [
       "<matplotlib.axes._subplots.AxesSubplot at 0x1a418bf8d0>"
      ]
     },
     "execution_count": 280,
     "metadata": {},
     "output_type": "execute_result"
    },
    {
     "data": {
      "image/png": "[encoded data removed]",
      "text/plain": [
       "<Figure size 432x288 with 1 Axes>"
      ]
     },
     "metadata": {
      "needs_background": "light"
     },
     "output_type": "display_data"
    }
   ],
   "source": [
    "sns.distplot(df['PiggyBankModifiedPoints_sum_dsi3'])"
   ]
  },
  {
   "cell_type": "markdown",
   "metadata": {},
   "source": [
    "# EDA"
   ]
  },
  {
   "cell_type": "markdown",
   "metadata": {},
   "source": [
    "**Nulos**"
   ]
  },
  {
   "cell_type": "code",
   "execution_count": 188,
   "metadata": {},
   "outputs": [
    {
     "data": {
      "text/html": [
       "<div>\n",
       "<style scoped>\n",
       "    .dataframe tbody tr th:only-of-type {\n",
       "        vertical-align: middle;\n",
       "    }\n",
       "\n",
       "    .dataframe tbody tr th {\n",
       "        vertical-align: top;\n",
       "    }\n",
       "\n",
       "    .dataframe thead th {\n",
       "        text-align: right;\n",
       "    }\n",
       "</style>\n",
       "<table border=\"1\" class=\"dataframe\">\n",
       "  <thead>\n",
       "    <tr style=\"text-align: right;\">\n",
       "      <th></th>\n",
       "      <th>column</th>\n",
       "      <th>nul_perc</th>\n",
       "    </tr>\n",
       "  </thead>\n",
       "  <tbody>\n",
       "    <tr>\n",
       "      <th>0</th>\n",
       "      <td>ChangeArena_sum_dsi3</td>\n",
       "      <td>19.01%</td>\n",
       "    </tr>\n",
       "    <tr>\n",
       "      <th>1</th>\n",
       "      <td>OpenChest_sum_dsi2</td>\n",
       "      <td>13.04%</td>\n",
       "    </tr>\n",
       "    <tr>\n",
       "      <th>2</th>\n",
       "      <td>StartBattle_sum_dsi1</td>\n",
       "      <td>8.86%</td>\n",
       "    </tr>\n",
       "    <tr>\n",
       "      <th>3</th>\n",
       "      <td>age</td>\n",
       "      <td>97.01%</td>\n",
       "    </tr>\n",
       "    <tr>\n",
       "      <th>4</th>\n",
       "      <td>categorical_7</td>\n",
       "      <td>5.69%</td>\n",
       "    </tr>\n",
       "    <tr>\n",
       "      <th>5</th>\n",
       "      <td>country</td>\n",
       "      <td>2.13%</td>\n",
       "    </tr>\n",
       "    <tr>\n",
       "      <th>6</th>\n",
       "      <td>device_model</td>\n",
       "      <td>0.00%</td>\n",
       "    </tr>\n",
       "    <tr>\n",
       "      <th>7</th>\n",
       "      <td>site</td>\n",
       "      <td>73.01%</td>\n",
       "    </tr>\n",
       "  </tbody>\n",
       "</table>\n",
       "</div>"
      ],
      "text/plain": [
       "                 column nul_perc\n",
       "0  ChangeArena_sum_dsi3   19.01%\n",
       "1    OpenChest_sum_dsi2   13.04%\n",
       "2  StartBattle_sum_dsi1    8.86%\n",
       "3                   age   97.01%\n",
       "4         categorical_7    5.69%\n",
       "5               country    2.13%\n",
       "6          device_model    0.00%\n",
       "7                  site   73.01%"
      ]
     },
     "execution_count": 188,
     "metadata": {},
     "output_type": "execute_result"
    }
   ],
   "source": [
    "nulos(df)"
   ]
  },
  {
   "cell_type": "code",
   "execution_count": 136,
   "metadata": {},
   "outputs": [
    {
     "data": {
      "text/html": [
       "<div>\n",
       "<style scoped>\n",
       "    .dataframe tbody tr th:only-of-type {\n",
       "        vertical-align: middle;\n",
       "    }\n",
       "\n",
       "    .dataframe tbody tr th {\n",
       "        vertical-align: top;\n",
       "    }\n",
       "\n",
       "    .dataframe thead th {\n",
       "        text-align: right;\n",
       "    }\n",
       "</style>\n",
       "<table border=\"1\" class=\"dataframe\">\n",
       "  <thead>\n",
       "    <tr style=\"text-align: right;\">\n",
       "      <th></th>\n",
       "      <th>ChangeArena_sum_dsi3</th>\n",
       "      <th>OpenChest_sum_dsi2</th>\n",
       "      <th>StartBattle_sum_dsi1</th>\n",
       "      <th>age</th>\n",
       "      <th>categorical_7</th>\n",
       "      <th>country</th>\n",
       "      <th>device_model</th>\n",
       "      <th>site</th>\n",
       "    </tr>\n",
       "  </thead>\n",
       "  <tbody>\n",
       "    <tr>\n",
       "      <th>count</th>\n",
       "      <td>444608.000000</td>\n",
       "      <td>477367.000000</td>\n",
       "      <td>500290.000000</td>\n",
       "      <td>16404.000000</td>\n",
       "      <td>517715</td>\n",
       "      <td>537240</td>\n",
       "      <td>548944</td>\n",
       "      <td>148183</td>\n",
       "    </tr>\n",
       "    <tr>\n",
       "      <th>unique</th>\n",
       "      <td>NaN</td>\n",
       "      <td>NaN</td>\n",
       "      <td>NaN</td>\n",
       "      <td>NaN</td>\n",
       "      <td>155</td>\n",
       "      <td>204</td>\n",
       "      <td>17662</td>\n",
       "      <td>499</td>\n",
       "    </tr>\n",
       "    <tr>\n",
       "      <th>top</th>\n",
       "      <td>NaN</td>\n",
       "      <td>NaN</td>\n",
       "      <td>NaN</td>\n",
       "      <td>NaN</td>\n",
       "      <td>42279d35</td>\n",
       "      <td>IN</td>\n",
       "      <td>iPhone7,2</td>\n",
       "      <td>7076a97d</td>\n",
       "    </tr>\n",
       "    <tr>\n",
       "      <th>freq</th>\n",
       "      <td>NaN</td>\n",
       "      <td>NaN</td>\n",
       "      <td>NaN</td>\n",
       "      <td>NaN</td>\n",
       "      <td>68863</td>\n",
       "      <td>79510</td>\n",
       "      <td>5569</td>\n",
       "      <td>348</td>\n",
       "    </tr>\n",
       "    <tr>\n",
       "      <th>mean</th>\n",
       "      <td>0.225313</td>\n",
       "      <td>3.965310</td>\n",
       "      <td>13.118259</td>\n",
       "      <td>36.909534</td>\n",
       "      <td>NaN</td>\n",
       "      <td>NaN</td>\n",
       "      <td>NaN</td>\n",
       "      <td>NaN</td>\n",
       "    </tr>\n",
       "    <tr>\n",
       "      <th>std</th>\n",
       "      <td>0.640074</td>\n",
       "      <td>3.999271</td>\n",
       "      <td>19.398275</td>\n",
       "      <td>15.767479</td>\n",
       "      <td>NaN</td>\n",
       "      <td>NaN</td>\n",
       "      <td>NaN</td>\n",
       "      <td>NaN</td>\n",
       "    </tr>\n",
       "    <tr>\n",
       "      <th>min</th>\n",
       "      <td>0.000000</td>\n",
       "      <td>0.000000</td>\n",
       "      <td>0.000000</td>\n",
       "      <td>10.000000</td>\n",
       "      <td>NaN</td>\n",
       "      <td>NaN</td>\n",
       "      <td>NaN</td>\n",
       "      <td>NaN</td>\n",
       "    </tr>\n",
       "    <tr>\n",
       "      <th>25%</th>\n",
       "      <td>0.000000</td>\n",
       "      <td>0.000000</td>\n",
       "      <td>0.000000</td>\n",
       "      <td>23.000000</td>\n",
       "      <td>NaN</td>\n",
       "      <td>NaN</td>\n",
       "      <td>NaN</td>\n",
       "      <td>NaN</td>\n",
       "    </tr>\n",
       "    <tr>\n",
       "      <th>50%</th>\n",
       "      <td>0.000000</td>\n",
       "      <td>3.000000</td>\n",
       "      <td>7.000000</td>\n",
       "      <td>37.000000</td>\n",
       "      <td>NaN</td>\n",
       "      <td>NaN</td>\n",
       "      <td>NaN</td>\n",
       "      <td>NaN</td>\n",
       "    </tr>\n",
       "    <tr>\n",
       "      <th>75%</th>\n",
       "      <td>0.000000</td>\n",
       "      <td>6.000000</td>\n",
       "      <td>18.000000</td>\n",
       "      <td>51.000000</td>\n",
       "      <td>NaN</td>\n",
       "      <td>NaN</td>\n",
       "      <td>NaN</td>\n",
       "      <td>NaN</td>\n",
       "    </tr>\n",
       "    <tr>\n",
       "      <th>max</th>\n",
       "      <td>17.000000</td>\n",
       "      <td>154.000000</td>\n",
       "      <td>616.000000</td>\n",
       "      <td>64.000000</td>\n",
       "      <td>NaN</td>\n",
       "      <td>NaN</td>\n",
       "      <td>NaN</td>\n",
       "      <td>NaN</td>\n",
       "    </tr>\n",
       "  </tbody>\n",
       "</table>\n",
       "</div>"
      ],
      "text/plain": [
       "        ChangeArena_sum_dsi3  OpenChest_sum_dsi2  StartBattle_sum_dsi1  \\\n",
       "count          444608.000000       477367.000000         500290.000000   \n",
       "unique                   NaN                 NaN                   NaN   \n",
       "top                      NaN                 NaN                   NaN   \n",
       "freq                     NaN                 NaN                   NaN   \n",
       "mean                0.225313            3.965310             13.118259   \n",
       "std                 0.640074            3.999271             19.398275   \n",
       "min                 0.000000            0.000000              0.000000   \n",
       "25%                 0.000000            0.000000              0.000000   \n",
       "50%                 0.000000            3.000000              7.000000   \n",
       "75%                 0.000000            6.000000             18.000000   \n",
       "max                17.000000          154.000000            616.000000   \n",
       "\n",
       "                 age categorical_7 country device_model      site  \n",
       "count   16404.000000        517715  537240       548944    148183  \n",
       "unique           NaN           155     204        17662       499  \n",
       "top              NaN      42279d35      IN    iPhone7,2  7076a97d  \n",
       "freq             NaN         68863   79510         5569       348  \n",
       "mean       36.909534           NaN     NaN          NaN       NaN  \n",
       "std        15.767479           NaN     NaN          NaN       NaN  \n",
       "min        10.000000           NaN     NaN          NaN       NaN  \n",
       "25%        23.000000           NaN     NaN          NaN       NaN  \n",
       "50%        37.000000           NaN     NaN          NaN       NaN  \n",
       "75%        51.000000           NaN     NaN          NaN       NaN  \n",
       "max        64.000000           NaN     NaN          NaN       NaN  "
      ]
     },
     "execution_count": 136,
     "metadata": {},
     "output_type": "execute_result"
    }
   ],
   "source": [
    "df.loc[:,nulos['column']].describe(include='all')"
   ]
  },
  {
   "cell_type": "markdown",
   "metadata": {},
   "source": [
    "**Varianza de variables numericas**"
   ]
  },
  {
   "cell_type": "code",
   "execution_count": null,
   "metadata": {},
   "outputs": [],
   "source": [
    "df_numerical = df.select_dtypes(include = ['float64', 'int64'])\n",
    "df_numerical.shape"
   ]
  },
  {
   "cell_type": "code",
   "execution_count": 143,
   "metadata": {},
   "outputs": [],
   "source": [
    "describe_num = df_numerical.describe()\n",
    "describe_num.loc['var'] = describe_num.loc['std']**2"
   ]
  },
  {
   "cell_type": "code",
   "execution_count": 144,
   "metadata": {},
   "outputs": [
    {
     "data": {
      "text/html": [
       "<div>\n",
       "<style scoped>\n",
       "    .dataframe tbody tr th:only-of-type {\n",
       "        vertical-align: middle;\n",
       "    }\n",
       "\n",
       "    .dataframe tbody tr th {\n",
       "        vertical-align: top;\n",
       "    }\n",
       "\n",
       "    .dataframe thead th {\n",
       "        text-align: right;\n",
       "    }\n",
       "</style>\n",
       "<table border=\"1\" class=\"dataframe\">\n",
       "  <thead>\n",
       "    <tr style=\"text-align: right;\">\n",
       "      <th></th>\n",
       "      <th>index</th>\n",
       "      <th>var</th>\n",
       "    </tr>\n",
       "  </thead>\n",
       "  <tbody>\n",
       "    <tr>\n",
       "      <th>81</th>\n",
       "      <td>traffic_type</td>\n",
       "      <td>0.000000</td>\n",
       "    </tr>\n",
       "    <tr>\n",
       "      <th>45</th>\n",
       "      <td>QuitTournament_sum_dsi3</td>\n",
       "      <td>0.005912</td>\n",
       "    </tr>\n",
       "    <tr>\n",
       "      <th>44</th>\n",
       "      <td>QuitTournament_sum_dsi2</td>\n",
       "      <td>0.005952</td>\n",
       "    </tr>\n",
       "    <tr>\n",
       "      <th>43</th>\n",
       "      <td>QuitTournament_sum_dsi1</td>\n",
       "      <td>0.006157</td>\n",
       "    </tr>\n",
       "    <tr>\n",
       "      <th>18</th>\n",
       "      <td>JoinTournament_sum_dsi2</td>\n",
       "      <td>0.006320</td>\n",
       "    </tr>\n",
       "    <tr>\n",
       "      <th>17</th>\n",
       "      <td>JoinTournament_sum_dsi1</td>\n",
       "      <td>0.006855</td>\n",
       "    </tr>\n",
       "    <tr>\n",
       "      <th>19</th>\n",
       "      <td>JoinTournament_sum_dsi3</td>\n",
       "      <td>0.007103</td>\n",
       "    </tr>\n",
       "    <tr>\n",
       "      <th>42</th>\n",
       "      <td>QuitTournament_sum_dsi0</td>\n",
       "      <td>0.007266</td>\n",
       "    </tr>\n",
       "    <tr>\n",
       "      <th>16</th>\n",
       "      <td>JoinTournament_sum_dsi0</td>\n",
       "      <td>0.007309</td>\n",
       "    </tr>\n",
       "    <tr>\n",
       "      <th>26</th>\n",
       "      <td>LoseTournamentBattle_sum_dsi0</td>\n",
       "      <td>0.016014</td>\n",
       "    </tr>\n",
       "    <tr>\n",
       "      <th>37</th>\n",
       "      <td>OpenPiggyBank_sum_dsi3</td>\n",
       "      <td>0.019736</td>\n",
       "    </tr>\n",
       "    <tr>\n",
       "      <th>28</th>\n",
       "      <td>LoseTournamentBattle_sum_dsi2</td>\n",
       "      <td>0.021369</td>\n",
       "    </tr>\n",
       "    <tr>\n",
       "      <th>29</th>\n",
       "      <td>LoseTournamentBattle_sum_dsi3</td>\n",
       "      <td>0.023368</td>\n",
       "    </tr>\n",
       "    <tr>\n",
       "      <th>27</th>\n",
       "      <td>LoseTournamentBattle_sum_dsi1</td>\n",
       "      <td>0.023891</td>\n",
       "    </tr>\n",
       "    <tr>\n",
       "      <th>36</th>\n",
       "      <td>OpenPiggyBank_sum_dsi2</td>\n",
       "      <td>0.024731</td>\n",
       "    </tr>\n",
       "    <tr>\n",
       "      <th>70</th>\n",
       "      <td>WinTournamentBattle_sum_dsi0</td>\n",
       "      <td>0.050189</td>\n",
       "    </tr>\n",
       "    <tr>\n",
       "      <th>71</th>\n",
       "      <td>WinTournamentBattle_sum_dsi1</td>\n",
       "      <td>0.060102</td>\n",
       "    </tr>\n",
       "    <tr>\n",
       "      <th>72</th>\n",
       "      <td>WinTournamentBattle_sum_dsi2</td>\n",
       "      <td>0.066064</td>\n",
       "    </tr>\n",
       "    <tr>\n",
       "      <th>35</th>\n",
       "      <td>OpenPiggyBank_sum_dsi1</td>\n",
       "      <td>0.067104</td>\n",
       "    </tr>\n",
       "    <tr>\n",
       "      <th>73</th>\n",
       "      <td>WinTournamentBattle_sum_dsi3</td>\n",
       "      <td>0.069631</td>\n",
       "    </tr>\n",
       "  </tbody>\n",
       "</table>\n",
       "</div>"
      ],
      "text/plain": [
       "                            index       var\n",
       "81                   traffic_type  0.000000\n",
       "45        QuitTournament_sum_dsi3  0.005912\n",
       "44        QuitTournament_sum_dsi2  0.005952\n",
       "43        QuitTournament_sum_dsi1  0.006157\n",
       "18        JoinTournament_sum_dsi2  0.006320\n",
       "17        JoinTournament_sum_dsi1  0.006855\n",
       "19        JoinTournament_sum_dsi3  0.007103\n",
       "42        QuitTournament_sum_dsi0  0.007266\n",
       "16        JoinTournament_sum_dsi0  0.007309\n",
       "26  LoseTournamentBattle_sum_dsi0  0.016014\n",
       "37         OpenPiggyBank_sum_dsi3  0.019736\n",
       "28  LoseTournamentBattle_sum_dsi2  0.021369\n",
       "29  LoseTournamentBattle_sum_dsi3  0.023368\n",
       "27  LoseTournamentBattle_sum_dsi1  0.023891\n",
       "36         OpenPiggyBank_sum_dsi2  0.024731\n",
       "70   WinTournamentBattle_sum_dsi0  0.050189\n",
       "71   WinTournamentBattle_sum_dsi1  0.060102\n",
       "72   WinTournamentBattle_sum_dsi2  0.066064\n",
       "35         OpenPiggyBank_sum_dsi1  0.067104\n",
       "73   WinTournamentBattle_sum_dsi3  0.069631"
      ]
     },
     "execution_count": 144,
     "metadata": {},
     "output_type": "execute_result"
    }
   ],
   "source": [
    "nul_var = pd.DataFrame(data=describe_num.loc['var',:]).reset_index()\n",
    "nul_var = nul_var[nul_var['var'] < 0.1]\n",
    "nul_var.sort_values(by='var', ascending = True)"
   ]
  },
  {
   "cell_type": "code",
   "execution_count": 145,
   "metadata": {},
   "outputs": [
    {
     "data": {
      "text/plain": [
       "(20, 2)"
      ]
     },
     "execution_count": 145,
     "metadata": {},
     "output_type": "execute_result"
    }
   ],
   "source": [
    "nul_var.shape"
   ]
  },
  {
   "cell_type": "markdown",
   "metadata": {},
   "source": [
    "*Varianza de los features mas importantes*"
   ]
  },
  {
   "cell_type": "code",
   "execution_count": 293,
   "metadata": {},
   "outputs": [
    {
     "data": {
      "text/html": [
       "<div>\n",
       "<style scoped>\n",
       "    .dataframe tbody tr th:only-of-type {\n",
       "        vertical-align: middle;\n",
       "    }\n",
       "\n",
       "    .dataframe tbody tr th {\n",
       "        vertical-align: top;\n",
       "    }\n",
       "\n",
       "    .dataframe thead th {\n",
       "        text-align: right;\n",
       "    }\n",
       "</style>\n",
       "<table border=\"1\" class=\"dataframe\">\n",
       "  <thead>\n",
       "    <tr style=\"text-align: right;\">\n",
       "      <th></th>\n",
       "      <th>index</th>\n",
       "      <th>var</th>\n",
       "    </tr>\n",
       "  </thead>\n",
       "  <tbody>\n",
       "    <tr>\n",
       "      <th>0</th>\n",
       "      <td>PiggyBankModifiedPoints_sum_dsi3</td>\n",
       "      <td>1.620513e+02</td>\n",
       "    </tr>\n",
       "    <tr>\n",
       "      <th>1</th>\n",
       "      <td>StartSession_sum_dsi3</td>\n",
       "      <td>1.500884e+01</td>\n",
       "    </tr>\n",
       "    <tr>\n",
       "      <th>2</th>\n",
       "      <td>soft_positive</td>\n",
       "      <td>1.156919e+08</td>\n",
       "    </tr>\n",
       "    <tr>\n",
       "      <th>3</th>\n",
       "      <td>PiggyBankModifiedPoints_sum_dsi2</td>\n",
       "      <td>8.950182e+01</td>\n",
       "    </tr>\n",
       "    <tr>\n",
       "      <th>4</th>\n",
       "      <td>WinBattle_sum_dsi3</td>\n",
       "      <td>4.643526e+01</td>\n",
       "    </tr>\n",
       "    <tr>\n",
       "      <th>5</th>\n",
       "      <td>StartSession_sum_dsi2</td>\n",
       "      <td>1.819293e+01</td>\n",
       "    </tr>\n",
       "    <tr>\n",
       "      <th>6</th>\n",
       "      <td>OpenChest_sum_dsi3</td>\n",
       "      <td>6.201113e+09</td>\n",
       "    </tr>\n",
       "  </tbody>\n",
       "</table>\n",
       "</div>"
      ],
      "text/plain": [
       "                              index           var\n",
       "0  PiggyBankModifiedPoints_sum_dsi3  1.620513e+02\n",
       "1             StartSession_sum_dsi3  1.500884e+01\n",
       "2                     soft_positive  1.156919e+08\n",
       "3  PiggyBankModifiedPoints_sum_dsi2  8.950182e+01\n",
       "4                WinBattle_sum_dsi3  4.643526e+01\n",
       "5             StartSession_sum_dsi2  1.819293e+01\n",
       "6                OpenChest_sum_dsi3  6.201113e+09"
      ]
     },
     "execution_count": 293,
     "metadata": {},
     "output_type": "execute_result"
    }
   ],
   "source": [
    "describe_num.loc['var',imp_features['feature']] = describe_num.loc['std',imp_features['feature']]**2\n",
    "pd.DataFrame(data=describe_num.loc['var',imp_features['feature']]).reset_index()"
   ]
  },
  {
   "cell_type": "markdown",
   "metadata": {},
   "source": [
    "**Varianza de variables alfanumericas**"
   ]
  },
  {
   "cell_type": "markdown",
   "metadata": {},
   "source": [
    "*Que porcentaje de los registros de las variables categoricas toman el valor de la moda*"
   ]
  },
  {
   "cell_type": "code",
   "execution_count": null,
   "metadata": {},
   "outputs": [],
   "source": [
    "df_object = df.select_dtypes(include = ['O'])\n",
    "df_object.head()"
   ]
  },
  {
   "cell_type": "code",
   "execution_count": 77,
   "metadata": {},
   "outputs": [],
   "source": [
    "describe_cat = df_object.describe()"
   ]
  },
  {
   "cell_type": "code",
   "execution_count": 129,
   "metadata": {},
   "outputs": [
    {
     "data": {
      "text/html": [
       "<div>\n",
       "<style scoped>\n",
       "    .dataframe tbody tr th:only-of-type {\n",
       "        vertical-align: middle;\n",
       "    }\n",
       "\n",
       "    .dataframe tbody tr th {\n",
       "        vertical-align: top;\n",
       "    }\n",
       "\n",
       "    .dataframe thead th {\n",
       "        text-align: right;\n",
       "    }\n",
       "</style>\n",
       "<table border=\"1\" class=\"dataframe\">\n",
       "  <thead>\n",
       "    <tr style=\"text-align: right;\">\n",
       "      <th></th>\n",
       "      <th>var</th>\n",
       "      <th>top</th>\n",
       "      <th>unique</th>\n",
       "    </tr>\n",
       "  </thead>\n",
       "  <tbody>\n",
       "    <tr>\n",
       "      <th>categorical_4</th>\n",
       "      <td>0.919312</td>\n",
       "      <td>94dAb3fC</td>\n",
       "      <td>2127</td>\n",
       "    </tr>\n",
       "    <tr>\n",
       "      <th>platform</th>\n",
       "      <td>0.887541</td>\n",
       "      <td>Android</td>\n",
       "      <td>2</td>\n",
       "    </tr>\n",
       "    <tr>\n",
       "      <th>categorical_3</th>\n",
       "      <td>0.876804</td>\n",
       "      <td>aB5FcAd5</td>\n",
       "      <td>937</td>\n",
       "    </tr>\n",
       "    <tr>\n",
       "      <th>categorical_5</th>\n",
       "      <td>0.871905</td>\n",
       "      <td>3D8Eafc7</td>\n",
       "      <td>4074</td>\n",
       "    </tr>\n",
       "    <tr>\n",
       "      <th>categorical_1</th>\n",
       "      <td>0.858977</td>\n",
       "      <td>67AD0B6E</td>\n",
       "      <td>23</td>\n",
       "    </tr>\n",
       "    <tr>\n",
       "      <th>categorical_2</th>\n",
       "      <td>0.858977</td>\n",
       "      <td>d7172d3e</td>\n",
       "      <td>524</td>\n",
       "    </tr>\n",
       "    <tr>\n",
       "      <th>categorical_6</th>\n",
       "      <td>0.858977</td>\n",
       "      <td>58fdA94B</td>\n",
       "      <td>9</td>\n",
       "    </tr>\n",
       "    <tr>\n",
       "      <th>country</th>\n",
       "      <td>0.147997</td>\n",
       "      <td>IN</td>\n",
       "      <td>205</td>\n",
       "    </tr>\n",
       "    <tr>\n",
       "      <th>categorical_7</th>\n",
       "      <td>0.133013</td>\n",
       "      <td>42279d35</td>\n",
       "      <td>156</td>\n",
       "    </tr>\n",
       "    <tr>\n",
       "      <th>device_model</th>\n",
       "      <td>0.0101449</td>\n",
       "      <td>iPhone7,2</td>\n",
       "      <td>17663</td>\n",
       "    </tr>\n",
       "    <tr>\n",
       "      <th>site</th>\n",
       "      <td>0.00234845</td>\n",
       "      <td>7076a97d</td>\n",
       "      <td>500</td>\n",
       "    </tr>\n",
       "    <tr>\n",
       "      <th>user_id</th>\n",
       "      <td>1.82168e-06</td>\n",
       "      <td>afe8aeaa3760</td>\n",
       "      <td>548945</td>\n",
       "    </tr>\n",
       "  </tbody>\n",
       "</table>\n",
       "</div>"
      ],
      "text/plain": [
       "                       var           top  unique\n",
       "categorical_4     0.919312      94dAb3fC    2127\n",
       "platform          0.887541       Android       2\n",
       "categorical_3     0.876804      aB5FcAd5     937\n",
       "categorical_5     0.871905      3D8Eafc7    4074\n",
       "categorical_1     0.858977      67AD0B6E      23\n",
       "categorical_2     0.858977      d7172d3e     524\n",
       "categorical_6     0.858977      58fdA94B       9\n",
       "country           0.147997            IN     205\n",
       "categorical_7     0.133013      42279d35     156\n",
       "device_model     0.0101449     iPhone7,2   17663\n",
       "site            0.00234845      7076a97d     500\n",
       "user_id        1.82168e-06  afe8aeaa3760  548945"
      ]
     },
     "execution_count": 129,
     "metadata": {},
     "output_type": "execute_result"
    }
   ],
   "source": [
    "d = {'var':describe_cat.loc['freq',:]/describe_cat.loc['count',:], 'top':describe_cat.loc['top',:], \n",
    "     'unique': [len(df_object[x].unique()) for x in df_object.columns]}\n",
    "pd.DataFrame(data=d).sort_values(by=['var'], ascending = False)"
   ]
  },
  {
   "cell_type": "markdown",
   "metadata": {},
   "source": [
    "**Duplicados**"
   ]
  },
  {
   "cell_type": "code",
   "execution_count": 146,
   "metadata": {},
   "outputs": [
    {
     "data": {
      "text/plain": [
       "False"
      ]
     },
     "execution_count": 146,
     "metadata": {},
     "output_type": "execute_result"
    }
   ],
   "source": [
    "df['user_id'].duplicated().any()"
   ]
  },
  {
   "cell_type": "markdown",
   "metadata": {},
   "source": [
    "**Outliers**"
   ]
  },
  {
   "cell_type": "code",
   "execution_count": 148,
   "metadata": {},
   "outputs": [],
   "source": [
    "def tukey_outliers(df,column,extreme=False):\n",
    "    q1, q3 = np.percentile(df[column],[25,75])\n",
    "    iqr = q3 - q1\n",
    "    constant = 1.5 if not extreme else 3\n",
    "    return df[((df[column]>(q3+constant*iqr)) | (df[column]<(q1-constant*iqr)))]"
   ]
  },
  {
   "cell_type": "code",
   "execution_count": 163,
   "metadata": {},
   "outputs": [],
   "source": [
    "outliers = pd.DataFrame(columns=['column', 'outliers_perc'])\n",
    "for x in df_numerical.columns:\n",
    "    outliers = outliers.append({'column':x, \n",
    "                                 'outliers_perc': tukey_outliers(df_numerical,x,extreme=False).shape[0]/row}\n",
    "                                , ignore_index = True)\n"
   ]
  },
  {
   "cell_type": "code",
   "execution_count": 166,
   "metadata": {},
   "outputs": [
    {
     "data": {
      "text/html": [
       "<div>\n",
       "<style scoped>\n",
       "    .dataframe tbody tr th:only-of-type {\n",
       "        vertical-align: middle;\n",
       "    }\n",
       "\n",
       "    .dataframe tbody tr th {\n",
       "        vertical-align: top;\n",
       "    }\n",
       "\n",
       "    .dataframe thead th {\n",
       "        text-align: right;\n",
       "    }\n",
       "</style>\n",
       "<table border=\"1\" class=\"dataframe\">\n",
       "  <thead>\n",
       "    <tr style=\"text-align: right;\">\n",
       "      <th></th>\n",
       "      <th>column</th>\n",
       "      <th>outliers_perc</th>\n",
       "    </tr>\n",
       "  </thead>\n",
       "  <tbody>\n",
       "    <tr>\n",
       "      <th>0</th>\n",
       "      <td>BuyCard_sum_dsi0</td>\n",
       "      <td>0.187840</td>\n",
       "    </tr>\n",
       "    <tr>\n",
       "      <th>1</th>\n",
       "      <td>BuyCard_sum_dsi1</td>\n",
       "      <td>0.172746</td>\n",
       "    </tr>\n",
       "    <tr>\n",
       "      <th>2</th>\n",
       "      <td>BuyCard_sum_dsi2</td>\n",
       "      <td>0.235503</td>\n",
       "    </tr>\n",
       "    <tr>\n",
       "      <th>3</th>\n",
       "      <td>BuyCard_sum_dsi3</td>\n",
       "      <td>0.232701</td>\n",
       "    </tr>\n",
       "    <tr>\n",
       "      <th>4</th>\n",
       "      <td>ChangeArena_sum_dsi0</td>\n",
       "      <td>0.282567</td>\n",
       "    </tr>\n",
       "    <tr>\n",
       "      <th>6</th>\n",
       "      <td>ChangeArena_sum_dsi2</td>\n",
       "      <td>0.182346</td>\n",
       "    </tr>\n",
       "    <tr>\n",
       "      <th>20</th>\n",
       "      <td>Label</td>\n",
       "      <td>0.187678</td>\n",
       "    </tr>\n",
       "    <tr>\n",
       "      <th>34</th>\n",
       "      <td>OpenPiggyBank_sum_dsi0</td>\n",
       "      <td>0.160038</td>\n",
       "    </tr>\n",
       "    <tr>\n",
       "      <th>76</th>\n",
       "      <td>hard_positive</td>\n",
       "      <td>0.202694</td>\n",
       "    </tr>\n",
       "  </tbody>\n",
       "</table>\n",
       "</div>"
      ],
      "text/plain": [
       "                    column  outliers_perc\n",
       "0         BuyCard_sum_dsi0       0.187840\n",
       "1         BuyCard_sum_dsi1       0.172746\n",
       "2         BuyCard_sum_dsi2       0.235503\n",
       "3         BuyCard_sum_dsi3       0.232701\n",
       "4     ChangeArena_sum_dsi0       0.282567\n",
       "6     ChangeArena_sum_dsi2       0.182346\n",
       "20                   Label       0.187678\n",
       "34  OpenPiggyBank_sum_dsi0       0.160038\n",
       "76           hard_positive       0.202694"
      ]
     },
     "execution_count": 166,
     "metadata": {},
     "output_type": "execute_result"
    }
   ],
   "source": [
    "outliers[outliers['outliers_perc'] > 0.1]"
   ]
  },
  {
   "cell_type": "markdown",
   "metadata": {},
   "source": [
    "*Outliers de los features mas importantes*"
   ]
  },
  {
   "cell_type": "code",
   "execution_count": 291,
   "metadata": {},
   "outputs": [
    {
     "data": {
      "text/html": [
       "<div>\n",
       "<style scoped>\n",
       "    .dataframe tbody tr th:only-of-type {\n",
       "        vertical-align: middle;\n",
       "    }\n",
       "\n",
       "    .dataframe tbody tr th {\n",
       "        vertical-align: top;\n",
       "    }\n",
       "\n",
       "    .dataframe thead th {\n",
       "        text-align: right;\n",
       "    }\n",
       "</style>\n",
       "<table border=\"1\" class=\"dataframe\">\n",
       "  <thead>\n",
       "    <tr style=\"text-align: right;\">\n",
       "      <th></th>\n",
       "      <th>column</th>\n",
       "      <th>outliers_perc</th>\n",
       "    </tr>\n",
       "  </thead>\n",
       "  <tbody>\n",
       "    <tr>\n",
       "      <th>0</th>\n",
       "      <td>PiggyBankModifiedPoints_sum_dsi3</td>\n",
       "      <td>0.017619</td>\n",
       "    </tr>\n",
       "    <tr>\n",
       "      <th>1</th>\n",
       "      <td>StartSession_sum_dsi3</td>\n",
       "      <td>0.071182</td>\n",
       "    </tr>\n",
       "    <tr>\n",
       "      <th>2</th>\n",
       "      <td>soft_positive</td>\n",
       "      <td>0.035596</td>\n",
       "    </tr>\n",
       "    <tr>\n",
       "      <th>3</th>\n",
       "      <td>PiggyBankModifiedPoints_sum_dsi2</td>\n",
       "      <td>0.007489</td>\n",
       "    </tr>\n",
       "    <tr>\n",
       "      <th>4</th>\n",
       "      <td>WinBattle_sum_dsi3</td>\n",
       "      <td>0.083323</td>\n",
       "    </tr>\n",
       "    <tr>\n",
       "      <th>5</th>\n",
       "      <td>StartSession_sum_dsi2</td>\n",
       "      <td>0.043237</td>\n",
       "    </tr>\n",
       "    <tr>\n",
       "      <th>6</th>\n",
       "      <td>OpenChest_sum_dsi3</td>\n",
       "      <td>0.018326</td>\n",
       "    </tr>\n",
       "  </tbody>\n",
       "</table>\n",
       "</div>"
      ],
      "text/plain": [
       "                             column  outliers_perc\n",
       "0  PiggyBankModifiedPoints_sum_dsi3       0.017619\n",
       "1             StartSession_sum_dsi3       0.071182\n",
       "2                     soft_positive       0.035596\n",
       "3  PiggyBankModifiedPoints_sum_dsi2       0.007489\n",
       "4                WinBattle_sum_dsi3       0.083323\n",
       "5             StartSession_sum_dsi2       0.043237\n",
       "6                OpenChest_sum_dsi3       0.018326"
      ]
     },
     "execution_count": 291,
     "metadata": {},
     "output_type": "execute_result"
    }
   ],
   "source": [
    "outliers = pd.DataFrame(columns=['column', 'outliers_perc'])\n",
    "for x in imp_features['feature']:\n",
    "    outliers = outliers.append({'column':x, \n",
    "                                 'outliers_perc': tukey_outliers(df_numerical,x,extreme=False).shape[0]/row}\n",
    "                                , ignore_index = True)\n",
    "outliers"
   ]
  },
  {
   "cell_type": "markdown",
   "metadata": {},
   "source": [
    "**Analisis univariante**"
   ]
  },
  {
   "cell_type": "code",
   "execution_count": 289,
   "metadata": {},
   "outputs": [
    {
     "data": {
      "image/png": "[encoded data removed]",
      "text/plain": [
       "<Figure size 1368x1296 with 7 Axes>"
      ]
     },
     "metadata": {
      "needs_background": "light"
     },
     "output_type": "display_data"
    }
   ],
   "source": [
    "plt.figure(figsize=(19,18))\n",
    "i = 1\n",
    "for x in imp_features['feature']:\n",
    "    plt.subplot(4,4,i)\n",
    "    sns.boxplot(df[x])\n",
    "    i += 1\n",
    "plt.show()"
   ]
  },
  {
   "cell_type": "markdown",
   "metadata": {},
   "source": [
    "**Correlacion entre variables**"
   ]
  },
  {
   "cell_type": "code",
   "execution_count": 315,
   "metadata": {},
   "outputs": [],
   "source": [
    "var = imp_features['feature'].tolist()\n",
    "var.append('Label')\n",
    "var"
   ]
  },
  {
   "cell_type": "code",
   "execution_count": 317,
   "metadata": {},
   "outputs": [
    {
     "data": {
      "text/plain": [
       "PiggyBankModifiedPoints_sum_dsi3   -0.075242\n",
       "StartSession_sum_dsi3              -0.155624\n",
       "soft_positive                      -0.031347\n",
       "PiggyBankModifiedPoints_sum_dsi2   -0.076077\n",
       "WinBattle_sum_dsi3                 -0.172128\n",
       "StartSession_sum_dsi2              -0.124504\n",
       "OpenChest_sum_dsi3                 -0.000235\n",
       "Label                               1.000000\n",
       "Name: Label, dtype: float64"
      ]
     },
     "execution_count": 317,
     "metadata": {},
     "output_type": "execute_result"
    }
   ],
   "source": [
    "df_corr=df_numerical.loc[:,var].corr()[\"Label\"]\n",
    "df_corr\n"
   ]
  },
  {
   "cell_type": "code",
   "execution_count": 318,
   "metadata": {},
   "outputs": [
    {
     "data": {
      "text/plain": [
       "<seaborn.axisgrid.PairGrid at 0x1acc5ba7b8>"
      ]
     },
     "execution_count": 318,
     "metadata": {},
     "output_type": "execute_result"
    },
    {
     "data": {
      "image/png": "[encoded data removed]",
      "text/plain": [
       "<Figure size 1440x1440 with 72 Axes>"
      ]
     },
     "metadata": {
      "needs_background": "light"
     },
     "output_type": "display_data"
    }
   ],
   "source": [
    "sns.pairplot(df_numerical.loc[:,df_corr.index])"
   ]
  },
  {
   "cell_type": "code",
   "execution_count": 321,
   "metadata": {},
   "outputs": [
    {
     "data": {
      "text/plain": [
       "<matplotlib.axes._subplots.AxesSubplot at 0x1acb990278>"
      ]
     },
     "execution_count": 321,
     "metadata": {},
     "output_type": "execute_result"
    },
    {
     "data": {
      "image/png": "[encoded data removed]",
      "text/plain": [
       "<Figure size 1080x864 with 2 Axes>"
      ]
     },
     "metadata": {
      "needs_background": "light"
     },
     "output_type": "display_data"
    }
   ],
   "source": [
    "plt.rcParams[\"figure.figsize\"]=(15,12)\n",
    "sns.heatmap(df_numerical.loc[:,var].corr().abs(), annot=True, linewidths=0.5, cmap=\"Blues\", fmt=\"0.2%\")"
   ]
  },
  {
   "cell_type": "code",
   "execution_count": null,
   "metadata": {},
   "outputs": [],
   "source": []
  }
 ],
 "metadata": {
  "kernelspec": {
   "display_name": "Python 3",
   "language": "python",
   "name": "python3"
  },
  "language_info": {
   "codemirror_mode": {
    "name": "ipython",
    "version": 3
   },
   "file_extension": ".py",
   "mimetype": "text/x-python",
   "name": "python",
   "nbconvert_exporter": "python",
   "pygments_lexer": "ipython3",
   "version": "3.7.2"
  }
 },
 "nbformat": 4,
 "nbformat_minor": 2
}
